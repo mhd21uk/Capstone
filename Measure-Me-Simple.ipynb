{
 "cells": [
  {
   "cell_type": "markdown",
   "id": "96554d78",
   "metadata": {},
   "source": [
    "## This notebook is used for applying an alternative method to measure height (Involves more user interaction)\n",
    "\n",
    "### credits: https://www.geeksforgeeks.org/\n",
    "<hr style=\"border:2px solid gray\"> </hr>"
   ]
  },
  {
   "cell_type": "code",
   "execution_count": 1,
   "id": "600e6fb7",
   "metadata": {},
   "outputs": [],
   "source": [
    "import sys\n",
    "# !{sys.executable} -m pip install easygui"
   ]
  },
  {
   "cell_type": "code",
   "execution_count": 2,
   "id": "f28b7a29",
   "metadata": {},
   "outputs": [],
   "source": [
    "# Modules/Packages used\n",
    "import cv2"
   ]
  },
  {
   "cell_type": "code",
   "execution_count": 3,
   "id": "79d46075",
   "metadata": {},
   "outputs": [],
   "source": [
    "# Initialize global coordinates\n",
    "height = 0\n",
    "width = 0"
   ]
  },
  {
   "cell_type": "code",
   "execution_count": 4,
   "id": "f3998a84",
   "metadata": {},
   "outputs": [],
   "source": [
    "# Get the coordinates\n",
    "def click_event(event, x, y, flags, params):\n",
    "     \n",
    "    global height\n",
    "    global width\n",
    "        \n",
    "    # checking for left mouse click\n",
    "    if event == cv2.EVENT_LBUTTONDOWN:\n",
    "        \n",
    "        # Set height and width\n",
    "        height = y\n",
    "        width = x"
   ]
  },
  {
   "cell_type": "code",
   "execution_count": 5,
   "id": "7cdccf42",
   "metadata": {},
   "outputs": [],
   "source": [
    "def get_point(img):\n",
    "    \n",
    "    # show image\n",
    "    cv2.imshow('image', img)\n",
    "    \n",
    "    # Call the click_event() function by passing it to the mouse handler setMouseCallback\n",
    "    cv2.setMouseCallback('image', click_event)\n",
    "    \n",
    "    # Keep showing image\n",
    "    key = cv2.waitKey(0)\n",
    "\n",
    "    # Quit real-time image processing if 'q' button is pressed\n",
    "    if key == ord('q'):\n",
    "\n",
    "        # Destroy all windows\n",
    "        cv2.destroyAllWindows()\n",
    "        cv2.waitKey(1)"
   ]
  },
  {
   "cell_type": "code",
   "execution_count": 8,
   "id": "8ca4efde",
   "metadata": {},
   "outputs": [
    {
     "name": "stdout",
     "output_type": "stream",
     "text": [
      "Step 1: Please press on the highest point of the reference object\n",
      "The highest point of the reference object is:  681\n",
      "Step 2: Please press on the lowest point of the reference object\n",
      "The lowest point of the reference object is:  733\n",
      "Step 1: Please press on the highest point of the reference object\n",
      "The highest point of the person is:  389\n",
      "Step 2: Please press on the lowest point of the reference object\n",
      "The lowest point of the person is:  1232\n",
      "\n",
      "Centipixel_height = 5.416666666666667\n",
      "\n",
      "The height of this person is:  155.63076923076923\n",
      "\n",
      "Shout out: The SLO JAMZ Lounge\n"
     ]
    }
   ],
   "source": [
    "# read image\n",
    "img = cv2.imread('FrontX.jpeg', 1)\n",
    "\n",
    "# ~~~~~~~~~~~~~~~~~~~~~~~~~~~~~~~~~~~~~~~~~~~~~~~~~~~~~~~~~~~~~~~~~~~~~~~~~~~~~\n",
    "\n",
    "# Get highest point of reference object\n",
    "print('Step 1: Please press on the highest point of the reference object')\n",
    "\n",
    "get_point(img) # Update clicked pixel height and width\n",
    "highest_pt_ref = (height, width) # Save coordinates\n",
    "print('The highest point of the reference object is: ', highest_pt_ref[0])\n",
    "\n",
    "# Get  lowest point of reference object\n",
    "print('Step 2: Please press on the lowest point of the reference object')\n",
    "\n",
    "get_point(img) # Update clicked pixel height and width\n",
    "lowest_pt_ref = (height, width) # Save coordinates\n",
    "print('The lowest point of the reference object is: ', lowest_pt_ref[0])\n",
    "\n",
    "# ~~~~~~~~~~~~~~~~~~~~~~~~~~~~~~~~~~~~~~~~~~~~~~~~~~~~~~~~~~~~~~~~~~~~~~~~~~~~~\n",
    "\n",
    "# Get the reference object's height\n",
    "ref_height = 9.6 #float(input('Please input the reference object\\'s height:  '))\n",
    "\n",
    "# ~~~~~~~~~~~~~~~~~~~~~~~~~~~~~~~~~~~~~~~~~~~~~~~~~~~~~~~~~~~~~~~~~~~~~~~~~~~~~\n",
    "\n",
    "# Get highest point of person\n",
    "print('Step 1: Please press on the highest point of the reference object')\n",
    "\n",
    "get_point(img) # Update clicked pixel height and width\n",
    "highest_pt_person = (height, width) # Save coordinates\n",
    "print('The highest point of the person is: ', highest_pt_person[0])\n",
    "\n",
    "# Get lowest point of person\n",
    "print('Step 2: Please press on the lowest point of the reference object')\n",
    "\n",
    "get_point(img) # Update clicked pixel height and width\n",
    "lowest_pt_person = (height, width) # Save coordinates\n",
    "print('The lowest point of the person is: ', lowest_pt_person[0])\n",
    "\n",
    "# ~~~~~~~~~~~~~~~~~~~~~~~~~~~~~~~~~~~~~~~~~~~~~~~~~~~~~~~~~~~~~~~~~~~~~~~~~~~~~\n",
    "\n",
    "# Get number of pixels to produce 1 centimeter using height\n",
    "centipixel_height = ((lowest_pt_ref[0] - highest_pt_ref[0]) / ref_height)\n",
    "print('\\nCentipixel_height =', centipixel_height)\n",
    "\n",
    "# Produce final height\n",
    "final_height = ((lowest_pt_person[0] - highest_pt_person[0]) / centipixel_height)\n",
    "print('\\nThe height of this person is: ', final_height)\n",
    "\n",
    "print('\\nShout out: The SLO JAMZ Lounge')"
   ]
  },
  {
   "cell_type": "code",
   "execution_count": null,
   "id": "e3cdc36b",
   "metadata": {},
   "outputs": [],
   "source": []
  }
 ],
 "metadata": {
  "kernelspec": {
   "display_name": "Python 3",
   "language": "python",
   "name": "python3"
  },
  "language_info": {
   "codemirror_mode": {
    "name": "ipython",
    "version": 3
   },
   "file_extension": ".py",
   "mimetype": "text/x-python",
   "name": "python",
   "nbconvert_exporter": "python",
   "pygments_lexer": "ipython3",
   "version": "3.8.8"
  }
 },
 "nbformat": 4,
 "nbformat_minor": 5
}
